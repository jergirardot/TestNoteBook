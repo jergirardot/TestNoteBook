print('hello world')


#import pyvista as pv
#import panel as pn

#pn.extension('vtk')

# Crée une sphère
#sphere = pv.Sphere()
#plotter = pv.Plotter(notebook=True)
#plotter.add_mesh(sphere, color='orange')

# Affiche la scène interactive
#plotter.show(jupyter_backend='panel')
